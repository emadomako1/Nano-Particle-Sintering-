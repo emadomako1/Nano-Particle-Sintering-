{
 "cells": [
  {
   "cell_type": "code",
   "execution_count": 1,
   "metadata": {},
   "outputs": [],
   "source": [
    "from ase.cluster import FaceCenteredCubic,  Icosahedron\n",
    "from ase.visualize import view\n",
    "from ase.io.lammpsdata import write_lammps_data\n",
    "import numpy as np"
   ]
  },
  {
   "cell_type": "code",
   "execution_count": 2,
   "metadata": {},
   "outputs": [],
   "source": [
    "cell_size = 30\n",
    "cell = np.eye(3) * cell_size\n",
    "nanoparticle1 = Icosahedron('Au', 4)\n",
    "nanoparticle2 = Icosahedron('Cu', 4)\n",
    "\n",
    "nanoparticle2.translate([10, 10, 0])\n",
    "nanoparticles = nanoparticle1 + nanoparticle2\n",
    "nanoparticles.set_cell(cell)\n",
    "nanoparticles.center()"
   ]
  },
  {
   "cell_type": "code",
   "execution_count": 3,
   "metadata": {},
   "outputs": [
    {
     "data": {
      "text/plain": [
       "<Popen: returncode: None args: ['c:\\\\Users\\\\Acer\\\\anaconda3\\\\python.exe', '-...>"
      ]
     },
     "execution_count": 3,
     "metadata": {},
     "output_type": "execute_result"
    }
   ],
   "source": [
    "view(nanoparticles)\n",
    "\n",
    "# write_lammps_data(file='nanoparticles.lmp', masses=[26.98, 63.55 ], atoms=nanoparticles, atom_style='atomic')"
   ]
  }
 ],
 "metadata": {
  "kernelspec": {
   "display_name": "base",
   "language": "python",
   "name": "python3"
  },
  "language_info": {
   "codemirror_mode": {
    "name": "ipython",
    "version": 3
   },
   "file_extension": ".py",
   "mimetype": "text/x-python",
   "name": "python",
   "nbconvert_exporter": "python",
   "pygments_lexer": "ipython3",
   "version": "3.10.9"
  }
 },
 "nbformat": 4,
 "nbformat_minor": 2
}
